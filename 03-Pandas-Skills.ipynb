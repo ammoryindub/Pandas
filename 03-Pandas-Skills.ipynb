{
 "cells": [
  {
   "cell_type": "markdown",
   "id": "7341eb22",
   "metadata": {},
   "source": [
    "# Pandas Skills"
   ]
  },
  {
   "cell_type": "markdown",
   "id": "19874601",
   "metadata": {},
   "source": [
    "first, we will have to highlight that all names, dates, credit card numbers, or expiry dates are fake for the purpose of the exercise only!"
   ]
  },
  {
   "cell_type": "markdown",
   "id": "a28fe512",
   "metadata": {},
   "source": [
    "will upload the database I will be using to my Github as well, and this time our dataset is a CSV file"
   ]
  },
  {
   "cell_type": "code",
   "execution_count": 1,
   "id": "ec9ef5f5",
   "metadata": {},
   "outputs": [],
   "source": [
    "# import libraries \n",
    "\n",
    "import numpy as np\n",
    "import pandas as pd "
   ]
  },
  {
   "cell_type": "code",
   "execution_count": 2,
   "id": "d634cfe7",
   "metadata": {},
   "outputs": [],
   "source": [
    "# we will read our dataset CSV file\n",
    "\n",
    "ecom = pd.read_csv('Ecommerce.csv')"
   ]
  },
  {
   "cell_type": "code",
   "execution_count": 3,
   "id": "c6cc3f46",
   "metadata": {},
   "outputs": [
    {
     "data": {
      "text/html": [
       "<div>\n",
       "<style scoped>\n",
       "    .dataframe tbody tr th:only-of-type {\n",
       "        vertical-align: middle;\n",
       "    }\n",
       "\n",
       "    .dataframe tbody tr th {\n",
       "        vertical-align: top;\n",
       "    }\n",
       "\n",
       "    .dataframe thead th {\n",
       "        text-align: right;\n",
       "    }\n",
       "</style>\n",
       "<table border=\"1\" class=\"dataframe\">\n",
       "  <thead>\n",
       "    <tr style=\"text-align: right;\">\n",
       "      <th></th>\n",
       "      <th>Address</th>\n",
       "      <th>Lot</th>\n",
       "      <th>AM or PM</th>\n",
       "      <th>Browser Info</th>\n",
       "      <th>Company</th>\n",
       "      <th>Credit Card</th>\n",
       "      <th>CC Exp Date</th>\n",
       "      <th>CC Security Code</th>\n",
       "      <th>CC Provider</th>\n",
       "      <th>Email</th>\n",
       "      <th>Job</th>\n",
       "      <th>IP Address</th>\n",
       "      <th>Language</th>\n",
       "      <th>Purchase Price</th>\n",
       "    </tr>\n",
       "  </thead>\n",
       "  <tbody>\n",
       "    <tr>\n",
       "      <th>0</th>\n",
       "      <td>16629 Pace Camp Apt. 448\\nAlexisborough, NE 77...</td>\n",
       "      <td>46 in</td>\n",
       "      <td>PM</td>\n",
       "      <td>Opera/9.56.(X11; Linux x86_64; sl-SI) Presto/2...</td>\n",
       "      <td>Martinez-Herman</td>\n",
       "      <td>6011929061123406</td>\n",
       "      <td>02/20</td>\n",
       "      <td>900</td>\n",
       "      <td>JCB 16 digit</td>\n",
       "      <td>pdunlap@yahoo.com</td>\n",
       "      <td>Scientist, product/process development</td>\n",
       "      <td>149.146.147.205</td>\n",
       "      <td>el</td>\n",
       "      <td>98.14</td>\n",
       "    </tr>\n",
       "    <tr>\n",
       "      <th>1</th>\n",
       "      <td>9374 Jasmine Spurs Suite 508\\nSouth John, TN 8...</td>\n",
       "      <td>28 rn</td>\n",
       "      <td>PM</td>\n",
       "      <td>Opera/8.93.(Windows 98; Win 9x 4.90; en-US) Pr...</td>\n",
       "      <td>Fletcher, Richards and Whitaker</td>\n",
       "      <td>3337758169645356</td>\n",
       "      <td>11/18</td>\n",
       "      <td>561</td>\n",
       "      <td>Mastercard</td>\n",
       "      <td>anthony41@reed.com</td>\n",
       "      <td>Drilling engineer</td>\n",
       "      <td>15.160.41.51</td>\n",
       "      <td>fr</td>\n",
       "      <td>70.73</td>\n",
       "    </tr>\n",
       "    <tr>\n",
       "      <th>2</th>\n",
       "      <td>Unit 0065 Box 5052\\nDPO AP 27450</td>\n",
       "      <td>94 vE</td>\n",
       "      <td>PM</td>\n",
       "      <td>Mozilla/5.0 (compatible; MSIE 9.0; Windows NT ...</td>\n",
       "      <td>Simpson, Williams and Pham</td>\n",
       "      <td>675957666125</td>\n",
       "      <td>08/19</td>\n",
       "      <td>699</td>\n",
       "      <td>JCB 16 digit</td>\n",
       "      <td>amymiller@morales-harrison.com</td>\n",
       "      <td>Customer service manager</td>\n",
       "      <td>132.207.160.22</td>\n",
       "      <td>de</td>\n",
       "      <td>0.95</td>\n",
       "    </tr>\n",
       "    <tr>\n",
       "      <th>3</th>\n",
       "      <td>7780 Julia Fords\\nNew Stacy, WA 45798</td>\n",
       "      <td>36 vm</td>\n",
       "      <td>PM</td>\n",
       "      <td>Mozilla/5.0 (Macintosh; Intel Mac OS X 10_8_0 ...</td>\n",
       "      <td>Williams, Marshall and Buchanan</td>\n",
       "      <td>6011578504430710</td>\n",
       "      <td>02/24</td>\n",
       "      <td>384</td>\n",
       "      <td>Discover</td>\n",
       "      <td>brent16@olson-robinson.info</td>\n",
       "      <td>Drilling engineer</td>\n",
       "      <td>30.250.74.19</td>\n",
       "      <td>es</td>\n",
       "      <td>78.04</td>\n",
       "    </tr>\n",
       "    <tr>\n",
       "      <th>4</th>\n",
       "      <td>23012 Munoz Drive Suite 337\\nNew Cynthia, TX 5...</td>\n",
       "      <td>20 IE</td>\n",
       "      <td>AM</td>\n",
       "      <td>Opera/9.58.(X11; Linux x86_64; it-IT) Presto/2...</td>\n",
       "      <td>Brown, Watson and Andrews</td>\n",
       "      <td>6011456623207998</td>\n",
       "      <td>10/25</td>\n",
       "      <td>678</td>\n",
       "      <td>Diners Club / Carte Blanche</td>\n",
       "      <td>christopherwright@gmail.com</td>\n",
       "      <td>Fine artist</td>\n",
       "      <td>24.140.33.94</td>\n",
       "      <td>es</td>\n",
       "      <td>77.82</td>\n",
       "    </tr>\n",
       "  </tbody>\n",
       "</table>\n",
       "</div>"
      ],
      "text/plain": [
       "                                             Address    Lot AM or PM  \\\n",
       "0  16629 Pace Camp Apt. 448\\nAlexisborough, NE 77...  46 in       PM   \n",
       "1  9374 Jasmine Spurs Suite 508\\nSouth John, TN 8...  28 rn       PM   \n",
       "2                   Unit 0065 Box 5052\\nDPO AP 27450  94 vE       PM   \n",
       "3              7780 Julia Fords\\nNew Stacy, WA 45798  36 vm       PM   \n",
       "4  23012 Munoz Drive Suite 337\\nNew Cynthia, TX 5...  20 IE       AM   \n",
       "\n",
       "                                        Browser Info  \\\n",
       "0  Opera/9.56.(X11; Linux x86_64; sl-SI) Presto/2...   \n",
       "1  Opera/8.93.(Windows 98; Win 9x 4.90; en-US) Pr...   \n",
       "2  Mozilla/5.0 (compatible; MSIE 9.0; Windows NT ...   \n",
       "3  Mozilla/5.0 (Macintosh; Intel Mac OS X 10_8_0 ...   \n",
       "4  Opera/9.58.(X11; Linux x86_64; it-IT) Presto/2...   \n",
       "\n",
       "                           Company       Credit Card CC Exp Date  \\\n",
       "0                  Martinez-Herman  6011929061123406       02/20   \n",
       "1  Fletcher, Richards and Whitaker  3337758169645356       11/18   \n",
       "2       Simpson, Williams and Pham      675957666125       08/19   \n",
       "3  Williams, Marshall and Buchanan  6011578504430710       02/24   \n",
       "4        Brown, Watson and Andrews  6011456623207998       10/25   \n",
       "\n",
       "   CC Security Code                  CC Provider  \\\n",
       "0               900                 JCB 16 digit   \n",
       "1               561                   Mastercard   \n",
       "2               699                 JCB 16 digit   \n",
       "3               384                     Discover   \n",
       "4               678  Diners Club / Carte Blanche   \n",
       "\n",
       "                            Email                                     Job  \\\n",
       "0               pdunlap@yahoo.com  Scientist, product/process development   \n",
       "1              anthony41@reed.com                       Drilling engineer   \n",
       "2  amymiller@morales-harrison.com                Customer service manager   \n",
       "3     brent16@olson-robinson.info                       Drilling engineer   \n",
       "4     christopherwright@gmail.com                             Fine artist   \n",
       "\n",
       "        IP Address Language  Purchase Price  \n",
       "0  149.146.147.205       el           98.14  \n",
       "1     15.160.41.51       fr           70.73  \n",
       "2   132.207.160.22       de            0.95  \n",
       "3     30.250.74.19       es           78.04  \n",
       "4     24.140.33.94       es           77.82  "
      ]
     },
     "execution_count": 3,
     "metadata": {},
     "output_type": "execute_result"
    }
   ],
   "source": [
    "ecom.head()"
   ]
  },
  {
   "cell_type": "code",
   "execution_count": 4,
   "id": "a017219b",
   "metadata": {},
   "outputs": [
    {
     "name": "stdout",
     "output_type": "stream",
     "text": [
      "<class 'pandas.core.frame.DataFrame'>\n",
      "RangeIndex: 10000 entries, 0 to 9999\n",
      "Data columns (total 14 columns):\n",
      " #   Column            Non-Null Count  Dtype  \n",
      "---  ------            --------------  -----  \n",
      " 0   Address           10000 non-null  object \n",
      " 1   Lot               10000 non-null  object \n",
      " 2   AM or PM          10000 non-null  object \n",
      " 3   Browser Info      10000 non-null  object \n",
      " 4   Company           10000 non-null  object \n",
      " 5   Credit Card       10000 non-null  int64  \n",
      " 6   CC Exp Date       10000 non-null  object \n",
      " 7   CC Security Code  10000 non-null  int64  \n",
      " 8   CC Provider       10000 non-null  object \n",
      " 9   Email             10000 non-null  object \n",
      " 10  Job               10000 non-null  object \n",
      " 11  IP Address        10000 non-null  object \n",
      " 12  Language          10000 non-null  object \n",
      " 13  Purchase Price    10000 non-null  float64\n",
      "dtypes: float64(1), int64(2), object(11)\n",
      "memory usage: 1.1+ MB\n"
     ]
    }
   ],
   "source": [
    "# to gather information about our dataset\n",
    "\n",
    "ecom.info()"
   ]
  },
  {
   "cell_type": "code",
   "execution_count": 5,
   "id": "b60799ad",
   "metadata": {},
   "outputs": [
    {
     "data": {
      "text/plain": [
       "50.34730200000025"
      ]
     },
     "execution_count": 5,
     "metadata": {},
     "output_type": "execute_result"
    }
   ],
   "source": [
    "# we have an interesting value, we will discover more about it\n",
    "\n",
    "ecom['Purchase Price'].mean()"
   ]
  },
  {
   "cell_type": "code",
   "execution_count": 6,
   "id": "be634863",
   "metadata": {},
   "outputs": [
    {
     "data": {
      "text/plain": [
       "99.99"
      ]
     },
     "execution_count": 6,
     "metadata": {},
     "output_type": "execute_result"
    }
   ],
   "source": [
    "ecom['Purchase Price'].max()"
   ]
  },
  {
   "cell_type": "code",
   "execution_count": 7,
   "id": "bd0920bf",
   "metadata": {},
   "outputs": [
    {
     "data": {
      "text/plain": [
       "0.0"
      ]
     },
     "execution_count": 7,
     "metadata": {},
     "output_type": "execute_result"
    }
   ],
   "source": [
    "ecom['Purchase Price'].min()"
   ]
  },
  {
   "cell_type": "code",
   "execution_count": 14,
   "id": "8e49ec6c",
   "metadata": {},
   "outputs": [
    {
     "data": {
      "text/plain": [
       "de    1155\n",
       "ru    1155\n",
       "el    1137\n",
       "pt    1118\n",
       "en    1098\n",
       "fr    1097\n",
       "es    1095\n",
       "it    1086\n",
       "zh    1059\n",
       "Name: Language, dtype: int64"
      ]
     },
     "execution_count": 14,
     "metadata": {},
     "output_type": "execute_result"
    }
   ],
   "source": [
    "# now let's check how many languages our costumers set as their default language\n",
    "\n",
    "ecom['Language'].value_counts()"
   ]
  },
  {
   "cell_type": "code",
   "execution_count": 18,
   "id": "72959b2b",
   "metadata": {},
   "outputs": [],
   "source": [
    "# now let's check what type of job titles we have\n",
    "\n",
    "set = ecom['Job'].value_counts()"
   ]
  },
  {
   "cell_type": "code",
   "execution_count": 19,
   "id": "41185b95",
   "metadata": {},
   "outputs": [
    {
     "data": {
      "text/plain": [
       "Interior and spatial designer    31\n",
       "Lawyer                           30\n",
       "Social researcher                28\n",
       "Purchasing manager               27\n",
       "Designer, jewellery              27\n",
       "Name: Job, dtype: int64"
      ]
     },
     "execution_count": 19,
     "metadata": {},
     "output_type": "execute_result"
    }
   ],
   "source": [
    "set.head()\n",
    "\n",
    "# this also will show us top common job titles."
   ]
  },
  {
   "cell_type": "code",
   "execution_count": 26,
   "id": "f1bdbd3e",
   "metadata": {},
   "outputs": [
    {
     "data": {
      "text/plain": [
       "<bound method Series.groupby of Interior and spatial designer    31\n",
       "Lawyer                           30\n",
       "Social researcher                28\n",
       "Purchasing manager               27\n",
       "Designer, jewellery              27\n",
       "                                 ..\n",
       "Prison officer                    7\n",
       "Editor, film/video                6\n",
       "Actuary                           6\n",
       "Information systems manager       5\n",
       "Investment analyst                5\n",
       "Name: Job, Length: 623, dtype: int64>"
      ]
     },
     "execution_count": 26,
     "metadata": {},
     "output_type": "execute_result"
    }
   ],
   "source": [
    "set.groupby()"
   ]
  },
  {
   "cell_type": "code",
   "execution_count": 27,
   "id": "96d988ac",
   "metadata": {},
   "outputs": [
    {
     "data": {
      "text/plain": [
       "PM    5068\n",
       "AM    4932\n",
       "Name: AM or PM, dtype: int64"
      ]
     },
     "execution_count": 27,
     "metadata": {},
     "output_type": "execute_result"
    }
   ],
   "source": [
    "# let's check what part of the day people most liekly to buy\n",
    "\n",
    "ecom['AM or PM'].value_counts()"
   ]
  },
  {
   "cell_type": "markdown",
   "id": "1e13a9b1",
   "metadata": {},
   "source": [
    "#### Someone did a purchase from Lot '72 KW', let's try to find the transaction  "
   ]
  },
  {
   "cell_type": "code",
   "execution_count": 42,
   "id": "f51f0e99",
   "metadata": {},
   "outputs": [
    {
     "data": {
      "text/html": [
       "<div>\n",
       "<style scoped>\n",
       "    .dataframe tbody tr th:only-of-type {\n",
       "        vertical-align: middle;\n",
       "    }\n",
       "\n",
       "    .dataframe tbody tr th {\n",
       "        vertical-align: top;\n",
       "    }\n",
       "\n",
       "    .dataframe thead th {\n",
       "        text-align: right;\n",
       "    }\n",
       "</style>\n",
       "<table border=\"1\" class=\"dataframe\">\n",
       "  <thead>\n",
       "    <tr style=\"text-align: right;\">\n",
       "      <th></th>\n",
       "      <th>Address</th>\n",
       "      <th>Lot</th>\n",
       "      <th>AM or PM</th>\n",
       "      <th>Browser Info</th>\n",
       "      <th>Company</th>\n",
       "      <th>Credit Card</th>\n",
       "      <th>CC Exp Date</th>\n",
       "      <th>CC Security Code</th>\n",
       "      <th>CC Provider</th>\n",
       "      <th>Email</th>\n",
       "      <th>Job</th>\n",
       "      <th>IP Address</th>\n",
       "      <th>Language</th>\n",
       "      <th>Purchase Price</th>\n",
       "    </tr>\n",
       "  </thead>\n",
       "  <tbody>\n",
       "    <tr>\n",
       "      <th>243</th>\n",
       "      <td>7513 Parker Terrace Suite 132\\nSouth Misty, MI...</td>\n",
       "      <td>72 KW</td>\n",
       "      <td>PM</td>\n",
       "      <td>Mozilla/5.0 (compatible; MSIE 8.0; Windows CE;...</td>\n",
       "      <td>Medina, Shaw and Richards</td>\n",
       "      <td>4811358618009495</td>\n",
       "      <td>01/22</td>\n",
       "      <td>793</td>\n",
       "      <td>Mastercard</td>\n",
       "      <td>sara18@murray.com</td>\n",
       "      <td>Industrial/product designer</td>\n",
       "      <td>46.61.37.44</td>\n",
       "      <td>es</td>\n",
       "      <td>6.37</td>\n",
       "    </tr>\n",
       "  </tbody>\n",
       "</table>\n",
       "</div>"
      ],
      "text/plain": [
       "                                               Address    Lot AM or PM  \\\n",
       "243  7513 Parker Terrace Suite 132\\nSouth Misty, MI...  72 KW       PM   \n",
       "\n",
       "                                          Browser Info  \\\n",
       "243  Mozilla/5.0 (compatible; MSIE 8.0; Windows CE;...   \n",
       "\n",
       "                       Company       Credit Card CC Exp Date  \\\n",
       "243  Medina, Shaw and Richards  4811358618009495       01/22   \n",
       "\n",
       "     CC Security Code CC Provider              Email  \\\n",
       "243               793  Mastercard  sara18@murray.com   \n",
       "\n",
       "                             Job   IP Address Language  Purchase Price  \n",
       "243  Industrial/product designer  46.61.37.44       es            6.37  "
      ]
     },
     "execution_count": 42,
     "metadata": {},
     "output_type": "execute_result"
    }
   ],
   "source": [
    "ecom[ecom['Lot']=='72 KW']"
   ]
  },
  {
   "cell_type": "markdown",
   "id": "785deb97",
   "metadata": {},
   "source": [
    "#### let's try the same with a card number  '3528093315938508'"
   ]
  },
  {
   "cell_type": "code",
   "execution_count": 43,
   "id": "eabd82b6",
   "metadata": {},
   "outputs": [
    {
     "data": {
      "text/html": [
       "<div>\n",
       "<style scoped>\n",
       "    .dataframe tbody tr th:only-of-type {\n",
       "        vertical-align: middle;\n",
       "    }\n",
       "\n",
       "    .dataframe tbody tr th {\n",
       "        vertical-align: top;\n",
       "    }\n",
       "\n",
       "    .dataframe thead th {\n",
       "        text-align: right;\n",
       "    }\n",
       "</style>\n",
       "<table border=\"1\" class=\"dataframe\">\n",
       "  <thead>\n",
       "    <tr style=\"text-align: right;\">\n",
       "      <th></th>\n",
       "      <th>Address</th>\n",
       "      <th>Lot</th>\n",
       "      <th>AM or PM</th>\n",
       "      <th>Browser Info</th>\n",
       "      <th>Company</th>\n",
       "      <th>Credit Card</th>\n",
       "      <th>CC Exp Date</th>\n",
       "      <th>CC Security Code</th>\n",
       "      <th>CC Provider</th>\n",
       "      <th>Email</th>\n",
       "      <th>Job</th>\n",
       "      <th>IP Address</th>\n",
       "      <th>Language</th>\n",
       "      <th>Purchase Price</th>\n",
       "    </tr>\n",
       "  </thead>\n",
       "  <tbody>\n",
       "  </tbody>\n",
       "</table>\n",
       "</div>"
      ],
      "text/plain": [
       "Empty DataFrame\n",
       "Columns: [Address, Lot, AM or PM, Browser Info, Company, Credit Card, CC Exp Date, CC Security Code, CC Provider, Email, Job, IP Address, Language, Purchase Price]\n",
       "Index: []"
      ]
     },
     "execution_count": 43,
     "metadata": {},
     "output_type": "execute_result"
    }
   ],
   "source": [
    "ecom[ecom['Credit Card']=='3528093315938508']"
   ]
  },
  {
   "cell_type": "markdown",
   "id": "5da823c2",
   "metadata": {},
   "source": [
    "#### how many people have 'Voyager' CC, and what are the average, max, and min of their purchases"
   ]
  },
  {
   "cell_type": "code",
   "execution_count": 50,
   "id": "8d9b2da5",
   "metadata": {},
   "outputs": [
    {
     "data": {
      "text/html": [
       "<div>\n",
       "<style scoped>\n",
       "    .dataframe tbody tr th:only-of-type {\n",
       "        vertical-align: middle;\n",
       "    }\n",
       "\n",
       "    .dataframe tbody tr th {\n",
       "        vertical-align: top;\n",
       "    }\n",
       "\n",
       "    .dataframe thead th {\n",
       "        text-align: right;\n",
       "    }\n",
       "</style>\n",
       "<table border=\"1\" class=\"dataframe\">\n",
       "  <thead>\n",
       "    <tr style=\"text-align: right;\">\n",
       "      <th></th>\n",
       "      <th>Address</th>\n",
       "      <th>Lot</th>\n",
       "      <th>AM or PM</th>\n",
       "      <th>Browser Info</th>\n",
       "      <th>Company</th>\n",
       "      <th>Credit Card</th>\n",
       "      <th>CC Exp Date</th>\n",
       "      <th>CC Security Code</th>\n",
       "      <th>CC Provider</th>\n",
       "      <th>Email</th>\n",
       "      <th>Job</th>\n",
       "      <th>IP Address</th>\n",
       "      <th>Language</th>\n",
       "      <th>Purchase Price</th>\n",
       "    </tr>\n",
       "  </thead>\n",
       "  <tbody>\n",
       "    <tr>\n",
       "      <th>10</th>\n",
       "      <td>650 Elizabeth Park\\nLake Maria, LA 13526-2530</td>\n",
       "      <td>65 Yn</td>\n",
       "      <td>PM</td>\n",
       "      <td>Mozilla/5.0 (iPod; U; CPU iPhone OS 4_1 like M...</td>\n",
       "      <td>Strickland, Michael and Gonzales</td>\n",
       "      <td>180036417827355</td>\n",
       "      <td>02/17</td>\n",
       "      <td>754</td>\n",
       "      <td>Voyager</td>\n",
       "      <td>ustewart@hotmail.com</td>\n",
       "      <td>Development worker, community</td>\n",
       "      <td>26.59.93.1</td>\n",
       "      <td>el</td>\n",
       "      <td>96.89</td>\n",
       "    </tr>\n",
       "    <tr>\n",
       "      <th>25</th>\n",
       "      <td>80797 Ryan Trail Apt. 752\\nAaronhaven, MI 0622...</td>\n",
       "      <td>66 SO</td>\n",
       "      <td>PM</td>\n",
       "      <td>Mozilla/5.0 (Macintosh; U; PPC Mac OS X 10_7_1...</td>\n",
       "      <td>Saunders-Mendez</td>\n",
       "      <td>869938033091779</td>\n",
       "      <td>05/19</td>\n",
       "      <td>901</td>\n",
       "      <td>Voyager</td>\n",
       "      <td>madison41@mooney.com</td>\n",
       "      <td>Training and development officer</td>\n",
       "      <td>67.26.186.226</td>\n",
       "      <td>de</td>\n",
       "      <td>6.25</td>\n",
       "    </tr>\n",
       "    <tr>\n",
       "      <th>38</th>\n",
       "      <td>9671 Riley Drives Apt. 746\\nPort Davidtown, TN...</td>\n",
       "      <td>15 vj</td>\n",
       "      <td>AM</td>\n",
       "      <td>Mozilla/5.0 (X11; Linux i686; rv:1.9.6.20) Gec...</td>\n",
       "      <td>Bryant, Hubbard and Gonzales</td>\n",
       "      <td>210094965373094</td>\n",
       "      <td>12/20</td>\n",
       "      <td>248</td>\n",
       "      <td>Voyager</td>\n",
       "      <td>djennings@boyd-english.org</td>\n",
       "      <td>Music therapist</td>\n",
       "      <td>143.138.65.219</td>\n",
       "      <td>en</td>\n",
       "      <td>30.07</td>\n",
       "    </tr>\n",
       "    <tr>\n",
       "      <th>40</th>\n",
       "      <td>821 Adams Courts Apt. 568\\nNorth Nicole, MS 03...</td>\n",
       "      <td>35 gn</td>\n",
       "      <td>AM</td>\n",
       "      <td>Mozilla/5.0 (Windows; U; Windows 95) AppleWebK...</td>\n",
       "      <td>Weiss Group</td>\n",
       "      <td>348836222401711</td>\n",
       "      <td>05/26</td>\n",
       "      <td>667</td>\n",
       "      <td>Voyager</td>\n",
       "      <td>hernandezevelyn@dickerson.com</td>\n",
       "      <td>Tourist information centre manager</td>\n",
       "      <td>102.225.220.122</td>\n",
       "      <td>pt</td>\n",
       "      <td>87.68</td>\n",
       "    </tr>\n",
       "    <tr>\n",
       "      <th>69</th>\n",
       "      <td>1479 Bell Mills Apt. 702\\nCesarfort, PR 79642</td>\n",
       "      <td>48 Dv</td>\n",
       "      <td>AM</td>\n",
       "      <td>Mozilla/5.0 (compatible; MSIE 5.0; Windows 95;...</td>\n",
       "      <td>Floyd Group</td>\n",
       "      <td>30570877809646</td>\n",
       "      <td>07/23</td>\n",
       "      <td>320</td>\n",
       "      <td>Voyager</td>\n",
       "      <td>hancockphilip@wiley.net</td>\n",
       "      <td>Operational researcher</td>\n",
       "      <td>163.73.80.163</td>\n",
       "      <td>pt</td>\n",
       "      <td>33.86</td>\n",
       "    </tr>\n",
       "    <tr>\n",
       "      <th>...</th>\n",
       "      <td>...</td>\n",
       "      <td>...</td>\n",
       "      <td>...</td>\n",
       "      <td>...</td>\n",
       "      <td>...</td>\n",
       "      <td>...</td>\n",
       "      <td>...</td>\n",
       "      <td>...</td>\n",
       "      <td>...</td>\n",
       "      <td>...</td>\n",
       "      <td>...</td>\n",
       "      <td>...</td>\n",
       "      <td>...</td>\n",
       "      <td>...</td>\n",
       "    </tr>\n",
       "    <tr>\n",
       "      <th>9949</th>\n",
       "      <td>Unit 5828 Box 4807\\nDPO AE 56215-8460</td>\n",
       "      <td>23 Kg</td>\n",
       "      <td>AM</td>\n",
       "      <td>Mozilla/5.0 (iPod; U; CPU iPhone OS 4_1 like M...</td>\n",
       "      <td>Lewis Inc</td>\n",
       "      <td>346886835295374</td>\n",
       "      <td>11/22</td>\n",
       "      <td>390</td>\n",
       "      <td>Voyager</td>\n",
       "      <td>henrycindy@gmail.com</td>\n",
       "      <td>Clinical psychologist</td>\n",
       "      <td>241.130.139.148</td>\n",
       "      <td>zh</td>\n",
       "      <td>58.97</td>\n",
       "    </tr>\n",
       "    <tr>\n",
       "      <th>9952</th>\n",
       "      <td>9991 Vaughn Hills\\nRacheltown, PA 55409</td>\n",
       "      <td>36 KC</td>\n",
       "      <td>PM</td>\n",
       "      <td>Mozilla/5.0 (X11; Linux i686; rv:1.9.5.20) Gec...</td>\n",
       "      <td>Ward, Smith and Castillo</td>\n",
       "      <td>6011679271321726</td>\n",
       "      <td>09/19</td>\n",
       "      <td>964</td>\n",
       "      <td>Voyager</td>\n",
       "      <td>jonesjennifer@olson.com</td>\n",
       "      <td>Engineer, energy</td>\n",
       "      <td>116.228.12.42</td>\n",
       "      <td>es</td>\n",
       "      <td>39.63</td>\n",
       "    </tr>\n",
       "    <tr>\n",
       "      <th>9953</th>\n",
       "      <td>50619 Stephanie Rapid\\nPort Jason, IL 23095</td>\n",
       "      <td>19 ZO</td>\n",
       "      <td>AM</td>\n",
       "      <td>Mozilla/5.0 (iPod; U; CPU iPhone OS 3_0 like M...</td>\n",
       "      <td>Bell and Sons</td>\n",
       "      <td>378496848551408</td>\n",
       "      <td>09/17</td>\n",
       "      <td>505</td>\n",
       "      <td>Voyager</td>\n",
       "      <td>davidsonkaren@gmail.com</td>\n",
       "      <td>Ambulance person</td>\n",
       "      <td>141.206.108.106</td>\n",
       "      <td>el</td>\n",
       "      <td>46.16</td>\n",
       "    </tr>\n",
       "    <tr>\n",
       "      <th>9971</th>\n",
       "      <td>5806 Martinez Point\\nLake Abigailstad, MD 6183...</td>\n",
       "      <td>07 wl</td>\n",
       "      <td>AM</td>\n",
       "      <td>Mozilla/5.0 (X11; Linux i686) AppleWebKit/5360...</td>\n",
       "      <td>Brewer-Howard</td>\n",
       "      <td>5359660631103048</td>\n",
       "      <td>01/21</td>\n",
       "      <td>586</td>\n",
       "      <td>Voyager</td>\n",
       "      <td>leslierichards@warner.org</td>\n",
       "      <td>Therapist, art</td>\n",
       "      <td>81.2.189.127</td>\n",
       "      <td>de</td>\n",
       "      <td>65.06</td>\n",
       "    </tr>\n",
       "    <tr>\n",
       "      <th>9991</th>\n",
       "      <td>PSC 8165, Box 8498\\nAPO AP 60327-0346</td>\n",
       "      <td>50 dA</td>\n",
       "      <td>AM</td>\n",
       "      <td>Mozilla/5.0 (compatible; MSIE 8.0; Windows NT ...</td>\n",
       "      <td>Snyder Inc</td>\n",
       "      <td>4221582137197481</td>\n",
       "      <td>02/24</td>\n",
       "      <td>969</td>\n",
       "      <td>Voyager</td>\n",
       "      <td>kking@wise-liu.com</td>\n",
       "      <td>IT sales professional</td>\n",
       "      <td>254.25.31.156</td>\n",
       "      <td>el</td>\n",
       "      <td>25.93</td>\n",
       "    </tr>\n",
       "  </tbody>\n",
       "</table>\n",
       "<p>829 rows × 14 columns</p>\n",
       "</div>"
      ],
      "text/plain": [
       "                                                Address    Lot AM or PM  \\\n",
       "10        650 Elizabeth Park\\nLake Maria, LA 13526-2530  65 Yn       PM   \n",
       "25    80797 Ryan Trail Apt. 752\\nAaronhaven, MI 0622...  66 SO       PM   \n",
       "38    9671 Riley Drives Apt. 746\\nPort Davidtown, TN...  15 vj       AM   \n",
       "40    821 Adams Courts Apt. 568\\nNorth Nicole, MS 03...  35 gn       AM   \n",
       "69        1479 Bell Mills Apt. 702\\nCesarfort, PR 79642  48 Dv       AM   \n",
       "...                                                 ...    ...      ...   \n",
       "9949              Unit 5828 Box 4807\\nDPO AE 56215-8460  23 Kg       AM   \n",
       "9952            9991 Vaughn Hills\\nRacheltown, PA 55409  36 KC       PM   \n",
       "9953        50619 Stephanie Rapid\\nPort Jason, IL 23095  19 ZO       AM   \n",
       "9971  5806 Martinez Point\\nLake Abigailstad, MD 6183...  07 wl       AM   \n",
       "9991              PSC 8165, Box 8498\\nAPO AP 60327-0346  50 dA       AM   \n",
       "\n",
       "                                           Browser Info  \\\n",
       "10    Mozilla/5.0 (iPod; U; CPU iPhone OS 4_1 like M...   \n",
       "25    Mozilla/5.0 (Macintosh; U; PPC Mac OS X 10_7_1...   \n",
       "38    Mozilla/5.0 (X11; Linux i686; rv:1.9.6.20) Gec...   \n",
       "40    Mozilla/5.0 (Windows; U; Windows 95) AppleWebK...   \n",
       "69    Mozilla/5.0 (compatible; MSIE 5.0; Windows 95;...   \n",
       "...                                                 ...   \n",
       "9949  Mozilla/5.0 (iPod; U; CPU iPhone OS 4_1 like M...   \n",
       "9952  Mozilla/5.0 (X11; Linux i686; rv:1.9.5.20) Gec...   \n",
       "9953  Mozilla/5.0 (iPod; U; CPU iPhone OS 3_0 like M...   \n",
       "9971  Mozilla/5.0 (X11; Linux i686) AppleWebKit/5360...   \n",
       "9991  Mozilla/5.0 (compatible; MSIE 8.0; Windows NT ...   \n",
       "\n",
       "                               Company       Credit Card CC Exp Date  \\\n",
       "10    Strickland, Michael and Gonzales   180036417827355       02/17   \n",
       "25                     Saunders-Mendez   869938033091779       05/19   \n",
       "38        Bryant, Hubbard and Gonzales   210094965373094       12/20   \n",
       "40                         Weiss Group   348836222401711       05/26   \n",
       "69                         Floyd Group    30570877809646       07/23   \n",
       "...                                ...               ...         ...   \n",
       "9949                         Lewis Inc   346886835295374       11/22   \n",
       "9952          Ward, Smith and Castillo  6011679271321726       09/19   \n",
       "9953                     Bell and Sons   378496848551408       09/17   \n",
       "9971                     Brewer-Howard  5359660631103048       01/21   \n",
       "9991                        Snyder Inc  4221582137197481       02/24   \n",
       "\n",
       "      CC Security Code CC Provider                          Email  \\\n",
       "10                 754     Voyager           ustewart@hotmail.com   \n",
       "25                 901     Voyager           madison41@mooney.com   \n",
       "38                 248     Voyager     djennings@boyd-english.org   \n",
       "40                 667     Voyager  hernandezevelyn@dickerson.com   \n",
       "69                 320     Voyager        hancockphilip@wiley.net   \n",
       "...                ...         ...                            ...   \n",
       "9949               390     Voyager           henrycindy@gmail.com   \n",
       "9952               964     Voyager        jonesjennifer@olson.com   \n",
       "9953               505     Voyager        davidsonkaren@gmail.com   \n",
       "9971               586     Voyager      leslierichards@warner.org   \n",
       "9991               969     Voyager             kking@wise-liu.com   \n",
       "\n",
       "                                     Job       IP Address Language  \\\n",
       "10         Development worker, community       26.59.93.1       el   \n",
       "25      Training and development officer    67.26.186.226       de   \n",
       "38                       Music therapist   143.138.65.219       en   \n",
       "40    Tourist information centre manager  102.225.220.122       pt   \n",
       "69                Operational researcher    163.73.80.163       pt   \n",
       "...                                  ...              ...      ...   \n",
       "9949               Clinical psychologist  241.130.139.148       zh   \n",
       "9952                    Engineer, energy    116.228.12.42       es   \n",
       "9953                    Ambulance person  141.206.108.106       el   \n",
       "9971                      Therapist, art     81.2.189.127       de   \n",
       "9991               IT sales professional    254.25.31.156       el   \n",
       "\n",
       "      Purchase Price  \n",
       "10             96.89  \n",
       "25              6.25  \n",
       "38             30.07  \n",
       "40             87.68  \n",
       "69             33.86  \n",
       "...              ...  \n",
       "9949           58.97  \n",
       "9952           39.63  \n",
       "9953           46.16  \n",
       "9971           65.06  \n",
       "9991           25.93  \n",
       "\n",
       "[829 rows x 14 columns]"
      ]
     },
     "execution_count": 50,
     "metadata": {},
     "output_type": "execute_result"
    }
   ],
   "source": [
    "ecom[ecom['CC Provider']=='Voyager']\n",
    "\n",
    "# we find out how many users '829' total"
   ]
  },
  {
   "cell_type": "code",
   "execution_count": 53,
   "id": "c66103ac",
   "metadata": {},
   "outputs": [
    {
     "data": {
      "text/plain": [
       "51.97318455971051"
      ]
     },
     "execution_count": 53,
     "metadata": {},
     "output_type": "execute_result"
    }
   ],
   "source": [
    "# avergae sales of Voyager CC holders\n",
    "\n",
    "ecom[ecom['CC Provider']=='Voyager']['Purchase Price'].mean()"
   ]
  },
  {
   "cell_type": "code",
   "execution_count": 54,
   "id": "91713ab9",
   "metadata": {},
   "outputs": [
    {
     "data": {
      "text/plain": [
       "99.92"
      ]
     },
     "execution_count": 54,
     "metadata": {},
     "output_type": "execute_result"
    }
   ],
   "source": [
    "# maximum sales of Voyager CC holders\n",
    "\n",
    "ecom[ecom['CC Provider']=='Voyager']['Purchase Price'].max()"
   ]
  },
  {
   "cell_type": "code",
   "execution_count": 55,
   "id": "1d929d63",
   "metadata": {},
   "outputs": [
    {
     "data": {
      "text/plain": [
       "0.03"
      ]
     },
     "execution_count": 55,
     "metadata": {},
     "output_type": "execute_result"
    }
   ],
   "source": [
    "# least sales of Voyager CC holders\n",
    "\n",
    "ecom[ecom['CC Provider']=='Voyager']['Purchase Price'].min()"
   ]
  },
  {
   "cell_type": "markdown",
   "id": "32ec3201",
   "metadata": {},
   "source": [
    "In the following task, will try to apply multiple conditioning to find the type of information I need"
   ]
  },
  {
   "cell_type": "code",
   "execution_count": 57,
   "id": "c7566083",
   "metadata": {
    "scrolled": true
   },
   "outputs": [
    {
     "data": {
      "text/html": [
       "<div>\n",
       "<style scoped>\n",
       "    .dataframe tbody tr th:only-of-type {\n",
       "        vertical-align: middle;\n",
       "    }\n",
       "\n",
       "    .dataframe tbody tr th {\n",
       "        vertical-align: top;\n",
       "    }\n",
       "\n",
       "    .dataframe thead th {\n",
       "        text-align: right;\n",
       "    }\n",
       "</style>\n",
       "<table border=\"1\" class=\"dataframe\">\n",
       "  <thead>\n",
       "    <tr style=\"text-align: right;\">\n",
       "      <th></th>\n",
       "      <th>Address</th>\n",
       "      <th>Lot</th>\n",
       "      <th>AM or PM</th>\n",
       "      <th>Browser Info</th>\n",
       "      <th>Company</th>\n",
       "      <th>Credit Card</th>\n",
       "      <th>CC Exp Date</th>\n",
       "      <th>CC Security Code</th>\n",
       "      <th>CC Provider</th>\n",
       "      <th>Email</th>\n",
       "      <th>Job</th>\n",
       "      <th>IP Address</th>\n",
       "      <th>Language</th>\n",
       "      <th>Purchase Price</th>\n",
       "    </tr>\n",
       "  </thead>\n",
       "  <tbody>\n",
       "    <tr>\n",
       "      <th>10</th>\n",
       "      <td>650 Elizabeth Park\\nLake Maria, LA 13526-2530</td>\n",
       "      <td>65 Yn</td>\n",
       "      <td>PM</td>\n",
       "      <td>Mozilla/5.0 (iPod; U; CPU iPhone OS 4_1 like M...</td>\n",
       "      <td>Strickland, Michael and Gonzales</td>\n",
       "      <td>180036417827355</td>\n",
       "      <td>02/17</td>\n",
       "      <td>754</td>\n",
       "      <td>Voyager</td>\n",
       "      <td>ustewart@hotmail.com</td>\n",
       "      <td>Development worker, community</td>\n",
       "      <td>26.59.93.1</td>\n",
       "      <td>el</td>\n",
       "      <td>96.89</td>\n",
       "    </tr>\n",
       "    <tr>\n",
       "      <th>40</th>\n",
       "      <td>821 Adams Courts Apt. 568\\nNorth Nicole, MS 03...</td>\n",
       "      <td>35 gn</td>\n",
       "      <td>AM</td>\n",
       "      <td>Mozilla/5.0 (Windows; U; Windows 95) AppleWebK...</td>\n",
       "      <td>Weiss Group</td>\n",
       "      <td>348836222401711</td>\n",
       "      <td>05/26</td>\n",
       "      <td>667</td>\n",
       "      <td>Voyager</td>\n",
       "      <td>hernandezevelyn@dickerson.com</td>\n",
       "      <td>Tourist information centre manager</td>\n",
       "      <td>102.225.220.122</td>\n",
       "      <td>pt</td>\n",
       "      <td>87.68</td>\n",
       "    </tr>\n",
       "    <tr>\n",
       "      <th>76</th>\n",
       "      <td>49206 Campbell Port\\nNorth Cliffordshire, HI 3...</td>\n",
       "      <td>71 iu</td>\n",
       "      <td>PM</td>\n",
       "      <td>Mozilla/5.0 (Macintosh; U; PPC Mac OS X 10_5_9...</td>\n",
       "      <td>Jacobs-Tucker</td>\n",
       "      <td>6011343518820988</td>\n",
       "      <td>01/17</td>\n",
       "      <td>806</td>\n",
       "      <td>Voyager</td>\n",
       "      <td>eperez@hotmail.com</td>\n",
       "      <td>Paramedic</td>\n",
       "      <td>210.207.58.168</td>\n",
       "      <td>fr</td>\n",
       "      <td>57.34</td>\n",
       "    </tr>\n",
       "    <tr>\n",
       "      <th>80</th>\n",
       "      <td>88144 Jennifer Shore\\nEast Robert, NY 87858</td>\n",
       "      <td>99 Km</td>\n",
       "      <td>AM</td>\n",
       "      <td>Mozilla/5.0 (compatible; MSIE 6.0; Windows NT ...</td>\n",
       "      <td>Perez PLC</td>\n",
       "      <td>210052619871160</td>\n",
       "      <td>09/20</td>\n",
       "      <td>738</td>\n",
       "      <td>Voyager</td>\n",
       "      <td>michael46@yahoo.com</td>\n",
       "      <td>Data processing manager</td>\n",
       "      <td>63.115.141.253</td>\n",
       "      <td>it</td>\n",
       "      <td>77.50</td>\n",
       "    </tr>\n",
       "    <tr>\n",
       "      <th>96</th>\n",
       "      <td>17923 Carol Lake Suite 232\\nNew Andre, MD 0577...</td>\n",
       "      <td>20 bk</td>\n",
       "      <td>AM</td>\n",
       "      <td>Mozilla/5.0 (Macintosh; U; Intel Mac OS X 10_8...</td>\n",
       "      <td>Knight LLC</td>\n",
       "      <td>60498172646</td>\n",
       "      <td>09/25</td>\n",
       "      <td>600</td>\n",
       "      <td>Voyager</td>\n",
       "      <td>mannlisa@yahoo.com</td>\n",
       "      <td>Town planner</td>\n",
       "      <td>200.220.84.25</td>\n",
       "      <td>fr</td>\n",
       "      <td>77.51</td>\n",
       "    </tr>\n",
       "    <tr>\n",
       "      <th>...</th>\n",
       "      <td>...</td>\n",
       "      <td>...</td>\n",
       "      <td>...</td>\n",
       "      <td>...</td>\n",
       "      <td>...</td>\n",
       "      <td>...</td>\n",
       "      <td>...</td>\n",
       "      <td>...</td>\n",
       "      <td>...</td>\n",
       "      <td>...</td>\n",
       "      <td>...</td>\n",
       "      <td>...</td>\n",
       "      <td>...</td>\n",
       "      <td>...</td>\n",
       "    </tr>\n",
       "    <tr>\n",
       "      <th>9889</th>\n",
       "      <td>8092 Potter Lights Apt. 414\\nNorth Caitlinport...</td>\n",
       "      <td>88 yM</td>\n",
       "      <td>PM</td>\n",
       "      <td>Opera/9.61.(Windows NT 6.2; sl-SI) Presto/2.9....</td>\n",
       "      <td>Morgan-Murphy</td>\n",
       "      <td>30468912807552</td>\n",
       "      <td>03/23</td>\n",
       "      <td>694</td>\n",
       "      <td>Voyager</td>\n",
       "      <td>colleenburton@bryan-smith.com</td>\n",
       "      <td>Research officer, political party</td>\n",
       "      <td>221.142.60.47</td>\n",
       "      <td>es</td>\n",
       "      <td>74.70</td>\n",
       "    </tr>\n",
       "    <tr>\n",
       "      <th>9901</th>\n",
       "      <td>908 Norman Burgs\\nPhillipsberg, VT 92023-9956</td>\n",
       "      <td>90 Ng</td>\n",
       "      <td>PM</td>\n",
       "      <td>Mozilla/5.0 (compatible; MSIE 9.0; Windows NT ...</td>\n",
       "      <td>Hughes Inc</td>\n",
       "      <td>30148833294789</td>\n",
       "      <td>09/20</td>\n",
       "      <td>483</td>\n",
       "      <td>Voyager</td>\n",
       "      <td>james32@gmail.com</td>\n",
       "      <td>Meteorologist</td>\n",
       "      <td>250.66.85.29</td>\n",
       "      <td>en</td>\n",
       "      <td>57.25</td>\n",
       "    </tr>\n",
       "    <tr>\n",
       "      <th>9910</th>\n",
       "      <td>263 Steven Fall\\nNew Coryhaven, AK 76922</td>\n",
       "      <td>05 Ar</td>\n",
       "      <td>AM</td>\n",
       "      <td>Mozilla/5.0 (compatible; MSIE 7.0; Windows NT ...</td>\n",
       "      <td>Moreno-Burns</td>\n",
       "      <td>4457380775081926</td>\n",
       "      <td>05/21</td>\n",
       "      <td>6072</td>\n",
       "      <td>Voyager</td>\n",
       "      <td>randall01@yahoo.com</td>\n",
       "      <td>Psychotherapist, dance movement</td>\n",
       "      <td>132.205.186.156</td>\n",
       "      <td>el</td>\n",
       "      <td>70.42</td>\n",
       "    </tr>\n",
       "    <tr>\n",
       "      <th>9949</th>\n",
       "      <td>Unit 5828 Box 4807\\nDPO AE 56215-8460</td>\n",
       "      <td>23 Kg</td>\n",
       "      <td>AM</td>\n",
       "      <td>Mozilla/5.0 (iPod; U; CPU iPhone OS 4_1 like M...</td>\n",
       "      <td>Lewis Inc</td>\n",
       "      <td>346886835295374</td>\n",
       "      <td>11/22</td>\n",
       "      <td>390</td>\n",
       "      <td>Voyager</td>\n",
       "      <td>henrycindy@gmail.com</td>\n",
       "      <td>Clinical psychologist</td>\n",
       "      <td>241.130.139.148</td>\n",
       "      <td>zh</td>\n",
       "      <td>58.97</td>\n",
       "    </tr>\n",
       "    <tr>\n",
       "      <th>9971</th>\n",
       "      <td>5806 Martinez Point\\nLake Abigailstad, MD 6183...</td>\n",
       "      <td>07 wl</td>\n",
       "      <td>AM</td>\n",
       "      <td>Mozilla/5.0 (X11; Linux i686) AppleWebKit/5360...</td>\n",
       "      <td>Brewer-Howard</td>\n",
       "      <td>5359660631103048</td>\n",
       "      <td>01/21</td>\n",
       "      <td>586</td>\n",
       "      <td>Voyager</td>\n",
       "      <td>leslierichards@warner.org</td>\n",
       "      <td>Therapist, art</td>\n",
       "      <td>81.2.189.127</td>\n",
       "      <td>de</td>\n",
       "      <td>65.06</td>\n",
       "    </tr>\n",
       "  </tbody>\n",
       "</table>\n",
       "<p>441 rows × 14 columns</p>\n",
       "</div>"
      ],
      "text/plain": [
       "                                                Address    Lot AM or PM  \\\n",
       "10        650 Elizabeth Park\\nLake Maria, LA 13526-2530  65 Yn       PM   \n",
       "40    821 Adams Courts Apt. 568\\nNorth Nicole, MS 03...  35 gn       AM   \n",
       "76    49206 Campbell Port\\nNorth Cliffordshire, HI 3...  71 iu       PM   \n",
       "80          88144 Jennifer Shore\\nEast Robert, NY 87858  99 Km       AM   \n",
       "96    17923 Carol Lake Suite 232\\nNew Andre, MD 0577...  20 bk       AM   \n",
       "...                                                 ...    ...      ...   \n",
       "9889  8092 Potter Lights Apt. 414\\nNorth Caitlinport...  88 yM       PM   \n",
       "9901      908 Norman Burgs\\nPhillipsberg, VT 92023-9956  90 Ng       PM   \n",
       "9910           263 Steven Fall\\nNew Coryhaven, AK 76922  05 Ar       AM   \n",
       "9949              Unit 5828 Box 4807\\nDPO AE 56215-8460  23 Kg       AM   \n",
       "9971  5806 Martinez Point\\nLake Abigailstad, MD 6183...  07 wl       AM   \n",
       "\n",
       "                                           Browser Info  \\\n",
       "10    Mozilla/5.0 (iPod; U; CPU iPhone OS 4_1 like M...   \n",
       "40    Mozilla/5.0 (Windows; U; Windows 95) AppleWebK...   \n",
       "76    Mozilla/5.0 (Macintosh; U; PPC Mac OS X 10_5_9...   \n",
       "80    Mozilla/5.0 (compatible; MSIE 6.0; Windows NT ...   \n",
       "96    Mozilla/5.0 (Macintosh; U; Intel Mac OS X 10_8...   \n",
       "...                                                 ...   \n",
       "9889  Opera/9.61.(Windows NT 6.2; sl-SI) Presto/2.9....   \n",
       "9901  Mozilla/5.0 (compatible; MSIE 9.0; Windows NT ...   \n",
       "9910  Mozilla/5.0 (compatible; MSIE 7.0; Windows NT ...   \n",
       "9949  Mozilla/5.0 (iPod; U; CPU iPhone OS 4_1 like M...   \n",
       "9971  Mozilla/5.0 (X11; Linux i686) AppleWebKit/5360...   \n",
       "\n",
       "                               Company       Credit Card CC Exp Date  \\\n",
       "10    Strickland, Michael and Gonzales   180036417827355       02/17   \n",
       "40                         Weiss Group   348836222401711       05/26   \n",
       "76                       Jacobs-Tucker  6011343518820988       01/17   \n",
       "80                           Perez PLC   210052619871160       09/20   \n",
       "96                          Knight LLC       60498172646       09/25   \n",
       "...                                ...               ...         ...   \n",
       "9889                     Morgan-Murphy    30468912807552       03/23   \n",
       "9901                        Hughes Inc    30148833294789       09/20   \n",
       "9910                      Moreno-Burns  4457380775081926       05/21   \n",
       "9949                         Lewis Inc   346886835295374       11/22   \n",
       "9971                     Brewer-Howard  5359660631103048       01/21   \n",
       "\n",
       "      CC Security Code CC Provider                          Email  \\\n",
       "10                 754     Voyager           ustewart@hotmail.com   \n",
       "40                 667     Voyager  hernandezevelyn@dickerson.com   \n",
       "76                 806     Voyager             eperez@hotmail.com   \n",
       "80                 738     Voyager            michael46@yahoo.com   \n",
       "96                 600     Voyager             mannlisa@yahoo.com   \n",
       "...                ...         ...                            ...   \n",
       "9889               694     Voyager  colleenburton@bryan-smith.com   \n",
       "9901               483     Voyager              james32@gmail.com   \n",
       "9910              6072     Voyager            randall01@yahoo.com   \n",
       "9949               390     Voyager           henrycindy@gmail.com   \n",
       "9971               586     Voyager      leslierichards@warner.org   \n",
       "\n",
       "                                     Job       IP Address Language  \\\n",
       "10         Development worker, community       26.59.93.1       el   \n",
       "40    Tourist information centre manager  102.225.220.122       pt   \n",
       "76                             Paramedic   210.207.58.168       fr   \n",
       "80               Data processing manager   63.115.141.253       it   \n",
       "96                          Town planner    200.220.84.25       fr   \n",
       "...                                  ...              ...      ...   \n",
       "9889   Research officer, political party    221.142.60.47       es   \n",
       "9901                       Meteorologist     250.66.85.29       en   \n",
       "9910     Psychotherapist, dance movement  132.205.186.156       el   \n",
       "9949               Clinical psychologist  241.130.139.148       zh   \n",
       "9971                      Therapist, art     81.2.189.127       de   \n",
       "\n",
       "      Purchase Price  \n",
       "10             96.89  \n",
       "40             87.68  \n",
       "76             57.34  \n",
       "80             77.50  \n",
       "96             77.51  \n",
       "...              ...  \n",
       "9889           74.70  \n",
       "9901           57.25  \n",
       "9910           70.42  \n",
       "9949           58.97  \n",
       "9971           65.06  \n",
       "\n",
       "[441 rows x 14 columns]"
      ]
     },
     "execution_count": 57,
     "metadata": {},
     "output_type": "execute_result"
    }
   ],
   "source": [
    "# for purchases more than 50$ \n",
    "\n",
    "ecom[(ecom['CC Provider']=='Voyager') & (ecom['Purchase Price']>50)]"
   ]
  },
  {
   "cell_type": "markdown",
   "id": "f6f33ac5",
   "metadata": {},
   "source": [
    "#### Now let's try to find how many CC will expire next year '2024'"
   ]
  },
  {
   "cell_type": "code",
   "execution_count": 60,
   "id": "76a60de5",
   "metadata": {},
   "outputs": [
    {
     "data": {
      "text/plain": [
       "0       02/20\n",
       "1       11/18\n",
       "2       08/19\n",
       "3       02/24\n",
       "4       10/25\n",
       "        ...  \n",
       "9995    03/22\n",
       "9996    07/25\n",
       "9997    05/21\n",
       "9998    11/17\n",
       "9999    02/19\n",
       "Name: CC Exp Date, Length: 10000, dtype: object"
      ]
     },
     "execution_count": 60,
     "metadata": {},
     "output_type": "execute_result"
    }
   ],
   "source": [
    "ecom['CC Exp Date']"
   ]
  },
  {
   "cell_type": "code",
   "execution_count": 62,
   "id": "887d1cff",
   "metadata": {},
   "outputs": [
    {
     "name": "stdout",
     "output_type": "stream",
     "text": [
      "<class 'pandas.core.frame.DataFrame'>\n",
      "RangeIndex: 10000 entries, 0 to 9999\n",
      "Data columns (total 14 columns):\n",
      " #   Column            Non-Null Count  Dtype  \n",
      "---  ------            --------------  -----  \n",
      " 0   Address           10000 non-null  object \n",
      " 1   Lot               10000 non-null  object \n",
      " 2   AM or PM          10000 non-null  object \n",
      " 3   Browser Info      10000 non-null  object \n",
      " 4   Company           10000 non-null  object \n",
      " 5   Credit Card       10000 non-null  int64  \n",
      " 6   CC Exp Date       10000 non-null  object \n",
      " 7   CC Security Code  10000 non-null  int64  \n",
      " 8   CC Provider       10000 non-null  object \n",
      " 9   Email             10000 non-null  object \n",
      " 10  Job               10000 non-null  object \n",
      " 11  IP Address        10000 non-null  object \n",
      " 12  Language          10000 non-null  object \n",
      " 13  Purchase Price    10000 non-null  float64\n",
      "dtypes: float64(1), int64(2), object(11)\n",
      "memory usage: 1.1+ MB\n"
     ]
    }
   ],
   "source": [
    "ecom.info()"
   ]
  },
  {
   "cell_type": "code",
   "execution_count": 64,
   "id": "125fb541",
   "metadata": {},
   "outputs": [
    {
     "data": {
      "text/plain": [
       "'02/20'"
      ]
     },
     "execution_count": 64,
     "metadata": {},
     "output_type": "execute_result"
    }
   ],
   "source": [
    "# to confirm that in this column we have a string\n",
    "# so we will be able to locate its indexes\n",
    "\n",
    "ecom['CC Exp Date'].iloc[0]"
   ]
  },
  {
   "cell_type": "code",
   "execution_count": 65,
   "id": "39ecc761",
   "metadata": {},
   "outputs": [
    {
     "data": {
      "text/plain": [
       "'20'"
      ]
     },
     "execution_count": 65,
     "metadata": {},
     "output_type": "execute_result"
    }
   ],
   "source": [
    "ecom['CC Exp Date'].iloc[0][3:]"
   ]
  },
  {
   "cell_type": "code",
   "execution_count": 66,
   "id": "2c792fff",
   "metadata": {},
   "outputs": [
    {
     "data": {
      "text/plain": [
       "0       False\n",
       "1       False\n",
       "2       False\n",
       "3        True\n",
       "4       False\n",
       "        ...  \n",
       "9995    False\n",
       "9996    False\n",
       "9997    False\n",
       "9998    False\n",
       "9999    False\n",
       "Name: CC Exp Date, Length: 10000, dtype: bool"
      ]
     },
     "execution_count": 66,
     "metadata": {},
     "output_type": "execute_result"
    }
   ],
   "source": [
    "# now we apply the following \n",
    "\n",
    "ecom['CC Exp Date'].apply(lambda exp: exp[3:]=='24')"
   ]
  },
  {
   "cell_type": "code",
   "execution_count": 67,
   "id": "1488d57c",
   "metadata": {},
   "outputs": [
    {
     "data": {
      "text/plain": [
       "Address             992\n",
       "Lot                 992\n",
       "AM or PM            992\n",
       "Browser Info        992\n",
       "Company             992\n",
       "Credit Card         992\n",
       "CC Exp Date         992\n",
       "CC Security Code    992\n",
       "CC Provider         992\n",
       "Email               992\n",
       "Job                 992\n",
       "IP Address          992\n",
       "Language            992\n",
       "Purchase Price      992\n",
       "dtype: int64"
      ]
     },
     "execution_count": 67,
     "metadata": {},
     "output_type": "execute_result"
    }
   ],
   "source": [
    "# we have boolyan values, True values are what we looking for\n",
    "\n",
    "ecom[ecom['CC Exp Date'].apply(lambda exp: exp[3:]=='24')].count()"
   ]
  },
  {
   "cell_type": "markdown",
   "id": "80f10de9",
   "metadata": {},
   "source": [
    "#### let's find out what are email providers most people use"
   ]
  },
  {
   "cell_type": "code",
   "execution_count": 72,
   "id": "fd4c2e0e",
   "metadata": {},
   "outputs": [
    {
     "data": {
      "text/plain": [
       "0                    pdunlap@yahoo.com\n",
       "1                   anthony41@reed.com\n",
       "2       amymiller@morales-harrison.com\n",
       "3          brent16@olson-robinson.info\n",
       "4          christopherwright@gmail.com\n",
       "                     ...              \n",
       "9995            iscott@wade-garner.com\n",
       "9996                mary85@hotmail.com\n",
       "9997                 tyler16@gmail.com\n",
       "9998           elizabethmoore@reid.net\n",
       "9999             rachelford@vaughn.com\n",
       "Name: Email, Length: 10000, dtype: object"
      ]
     },
     "execution_count": 72,
     "metadata": {},
     "output_type": "execute_result"
    }
   ],
   "source": [
    "ecom['Email']"
   ]
  },
  {
   "cell_type": "code",
   "execution_count": 81,
   "id": "43f20b46",
   "metadata": {},
   "outputs": [],
   "source": [
    "em = ecom['Email'].iloc[0]"
   ]
  },
  {
   "cell_type": "code",
   "execution_count": 82,
   "id": "d2bf7edb",
   "metadata": {},
   "outputs": [
    {
     "data": {
      "text/plain": [
       "'pdunlap@yahoo.com'"
      ]
     },
     "execution_count": 82,
     "metadata": {},
     "output_type": "execute_result"
    }
   ],
   "source": [
    "em"
   ]
  },
  {
   "cell_type": "code",
   "execution_count": 83,
   "id": "37101706",
   "metadata": {},
   "outputs": [
    {
     "data": {
      "text/plain": [
       "['pdunlap', 'yahoo.com']"
      ]
     },
     "execution_count": 83,
     "metadata": {},
     "output_type": "execute_result"
    }
   ],
   "source": [
    "em.split('@')"
   ]
  },
  {
   "cell_type": "code",
   "execution_count": 84,
   "id": "f6c6ccbe",
   "metadata": {},
   "outputs": [
    {
     "data": {
      "text/plain": [
       "'yahoo.com'"
      ]
     },
     "execution_count": 84,
     "metadata": {},
     "output_type": "execute_result"
    }
   ],
   "source": [
    "em.split('@')[1]"
   ]
  },
  {
   "cell_type": "code",
   "execution_count": 85,
   "id": "46f1748c",
   "metadata": {},
   "outputs": [
    {
     "data": {
      "text/plain": [
       "<bound method IndexOpsMixin.value_counts of 0                  yahoo.com\n",
       "1                   reed.com\n",
       "2       morales-harrison.com\n",
       "3        olson-robinson.info\n",
       "4                  gmail.com\n",
       "                ...         \n",
       "9995         wade-garner.com\n",
       "9996             hotmail.com\n",
       "9997               gmail.com\n",
       "9998                reid.net\n",
       "9999              vaughn.com\n",
       "Name: Email, Length: 10000, dtype: object>"
      ]
     },
     "execution_count": 85,
     "metadata": {},
     "output_type": "execute_result"
    }
   ],
   "source": [
    "# now we apply the following \n",
    "\n",
    "ecom['Email'].apply(lambda em: em.split('@')[1]).value_counts"
   ]
  },
  {
   "cell_type": "code",
   "execution_count": 88,
   "id": "15e5ed85",
   "metadata": {},
   "outputs": [
    {
     "data": {
      "text/plain": [
       "hotmail.com     1638\n",
       "yahoo.com       1616\n",
       "gmail.com       1605\n",
       "smith.com         42\n",
       "williams.com      37\n",
       "Name: Email, dtype: int64"
      ]
     },
     "execution_count": 88,
     "metadata": {},
     "output_type": "execute_result"
    }
   ],
   "source": [
    "ecom['Email'].apply(lambda em: em.split('@')[1]).value_counts().head()"
   ]
  },
  {
   "cell_type": "markdown",
   "id": "c44f82e7",
   "metadata": {},
   "source": [
    "### - - - - The end - - - -"
   ]
  },
  {
   "cell_type": "code",
   "execution_count": null,
   "id": "2f924168",
   "metadata": {},
   "outputs": [],
   "source": []
  }
 ],
 "metadata": {
  "kernelspec": {
   "display_name": "Python 3 (ipykernel)",
   "language": "python",
   "name": "python3"
  },
  "language_info": {
   "codemirror_mode": {
    "name": "ipython",
    "version": 3
   },
   "file_extension": ".py",
   "mimetype": "text/x-python",
   "name": "python",
   "nbconvert_exporter": "python",
   "pygments_lexer": "ipython3",
   "version": "3.9.7"
  }
 },
 "nbformat": 4,
 "nbformat_minor": 5
}
